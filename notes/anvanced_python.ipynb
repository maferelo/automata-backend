{
 "cells": [
  {
   "cell_type": "code",
   "execution_count": null,
   "metadata": {},
   "outputs": [],
   "source": [
    "def p(a): print(a)"
   ]
  },
  {
   "cell_type": "code",
   "execution_count": 6,
   "metadata": {},
   "outputs": [
    {
     "name": "stdout",
     "output_type": "stream",
     "text": [
      "[5, 4, 3, 2, 1]\n",
      "[5, 12, 4, 3, 2, 1]\n",
      "1\n",
      "[5, 12, 4, 3, 2]\n",
      "[5, 4, 2]\n"
     ]
    }
   ],
   "source": [
    "# Lists: ordered, mutable, allows cuplicate elements\n",
    "l = [1, 2, 3, 4, 5]\n",
    "\n",
    "l.reverse()\n",
    "p(l)\n",
    "\n",
    "l.insert(1, 12)\n",
    "p(l)\n",
    "\n",
    "p(l.pop())\n",
    "p(l)\n",
    "\n",
    "print(l[::2])\n",
    "\n",
    "lc = l.copy()\n",
    "print(lc)"
   ]
  },
  {
   "cell_type": "code",
   "execution_count": 7,
   "metadata": {},
   "outputs": [
    {
     "name": "stdout",
     "output_type": "stream",
     "text": [
      "1 [2, 3, 4] 5\n"
     ]
    }
   ],
   "source": [
    "# Tuple: ordered, immutable, allows duplicate elements\n",
    "t = (1, 2, 3, 4, 5)\n",
    "\n",
    "left, *middle, right = t\n",
    "print(left, middle, right)"
   ]
  },
  {
   "cell_type": "code",
   "execution_count": 12,
   "metadata": {},
   "outputs": [
    {
     "name": "stdout",
     "output_type": "stream",
     "text": [
      "{1: 1, 2: 2, 3: 3, 4: 4}\n",
      "{1: 1, 2: 2, 3: 3, 4: 4, 6: 6}\n",
      "{(1, 2): 1}\n"
     ]
    }
   ],
   "source": [
    "# Dictionary: Key-Value pairs, Unordered, Mutable\n",
    "d = {1: 1, 2: 2, 3: 3, 4: 4, 5: 5}\n",
    "\n",
    "d.popitem()\n",
    "p(d)\n",
    "\n",
    "for k, v in d.items():\n",
    "    pass\n",
    "\n",
    "cd = d.copy()\n",
    "\n",
    "d2 = {6: 6}\n",
    "\n",
    "d.update(d2)\n",
    "print(d)\n",
    "\n",
    "t = (1, 2)\n",
    "d = {t: 1}\n",
    "p(d)"
   ]
  },
  {
   "cell_type": "code",
   "execution_count": 20,
   "metadata": {},
   "outputs": [
    {
     "name": "stdout",
     "output_type": "stream",
     "text": [
      "{1, 2, 3}\n",
      "{2, 3}\n",
      "{1, 2, 3, 4}\n",
      "{2, 3}\n",
      "set()\n",
      "{1, 4}\n",
      "{1, 2, 3, 4}\n",
      "True\n",
      "True\n",
      "set()\n"
     ]
    }
   ],
   "source": [
    "# Sets: unordered, mutable, no duplicates\n",
    "s = {1, 2, 3, 3}\n",
    "df = frozenset(s)\n",
    "p(s)\n",
    "\n",
    "s.discard(1)\n",
    "p(s)\n",
    "\n",
    "s2 = {1, 2, 3, 4}\n",
    "\n",
    "u = s.union(s2)\n",
    "p(u)\n",
    "\n",
    "i = s.intersection(s2)\n",
    "p(i)\n",
    "\n",
    "d = s.difference(s2)\n",
    "p(d)\n",
    "\n",
    "sd = s.symmetric_difference(s2)\n",
    "p(sd)\n",
    "\n",
    "s.update(s2)\n",
    "p(s)\n",
    "\n",
    "p(s.issubset(s2))\n",
    "p(s.issuperset(s2))\n",
    "\n",
    "s.clear()\n",
    "p(s)"
   ]
  },
  {
   "cell_type": "code",
   "execution_count": 26,
   "metadata": {},
   "outputs": [
    {
     "name": "stdout",
     "output_type": "stream",
     "text": [
      "      he\"llo world\n",
      "drwole   \n",
      "he\"llo world\n",
      "3\n"
     ]
    }
   ],
   "source": [
    "# String: ordered, immutable, text representation\n",
    "s = \"      he\\\"llo world\"\n",
    "p(s)\n",
    "\n",
    "p(s[::-2])\n",
    "\n",
    "p(s.strip())\n",
    "\n",
    "p(s.count(\"l\"))\n",
    "\n"
   ]
  },
  {
   "cell_type": "code",
   "execution_count": 33,
   "metadata": {},
   "outputs": [
    {
     "name": "stdout",
     "output_type": "stream",
     "text": [
      "Counter({'c': 6, 'a': 5, 'b': 5})\n",
      "[('c', 6)]\n",
      "1\n",
      "0\n"
     ]
    }
   ],
   "source": [
    "# collections: Counter, namedtuple, OrderedDict, defaultdict, deque\n",
    "from collections import Counter, namedtuple, defaultdict, deque\n",
    "\n",
    "s = \"aaaaabbbbbcccccc\"\n",
    "c = Counter(s)\n",
    "\n",
    "p(c)\n",
    "\n",
    "p(c.most_common(1))\n",
    "\n",
    "\n",
    "Point = namedtuple('Point', 'x,y')\n",
    "pt = Point(1, -4)\n",
    "p(pt.x)\n",
    "\n",
    "\n",
    "d = defaultdict(int)\n",
    "d[1] = 1\n",
    "p(d[2])\n",
    "\n",
    "\n",
    "d = deque()\n",
    "d.append(1)\n",
    "d.appendleft(2)\n",
    "d.rotate(1)\n"
   ]
  },
  {
   "cell_type": "code",
   "execution_count": 41,
   "metadata": {},
   "outputs": [
    {
     "name": "stdout",
     "output_type": "stream",
     "text": [
      "[(1, 3, 1, 3), (1, 3, 2, 3), (2, 3, 1, 3), (2, 3, 2, 3)]\n",
      "[(1, 2, 3), (1, 3, 2), (2, 1, 3), (2, 3, 1), (3, 1, 2), (3, 2, 1)]\n",
      "[(1, 2), (1, 3), (2, 3)]\n",
      "[1, 2, 3]\n",
      "True [1, 2]\n"
     ]
    }
   ],
   "source": [
    "# itertools: product, permutations, combinations, accumulate, groupby, and infinite iterators\n",
    "from itertools import product, permutations, combinations, accumulate, groupby\n",
    "a = [1, 2]\n",
    "b = [3]\n",
    "prod = product(a, b, repeat=2)\n",
    "\n",
    "p(list(prod))\n",
    "\n",
    "\n",
    "p(list(permutations(a + b)))\n",
    "\n",
    "p(list(combinations(a + b, 2)))\n",
    "\n",
    "p(list(accumulate(a + b, func=max)))\n",
    "\n",
    "\n",
    "def smaller_than_3(x):\n",
    "    return x < 3\n",
    "\n",
    "group = groupby(a, key=smaller_than_3)\n",
    "for k, v in group:\n",
    "    print(k, list(v))\n",
    "\n",
    "\n",
    "from itertools import count, cycle, repeat\n",
    "\n",
    "for i in repeat(1, 4):\n",
    "    pass"
   ]
  },
  {
   "cell_type": "code",
   "execution_count": 47,
   "metadata": {},
   "outputs": [
    {
     "name": "stdout",
     "output_type": "stream",
     "text": [
      "15\n",
      "10\n",
      "[(1, 2), (1, 1)]\n",
      "[(1, 1), (1, 2)]\n",
      "6\n"
     ]
    }
   ],
   "source": [
    "# lambda arguments: expression\n",
    "add10 = lambda x: x + 10\n",
    "\n",
    "p(add10(5))\n",
    "\n",
    "mult = lambda x, y: x * y\n",
    "p(mult(5, 2))\n",
    "\n",
    "\n",
    "points2D = [(1, 2), (1, 1)]\n",
    "points2D_sorted = sorted(points2D, key=lambda x: x[0] + x[1])\n",
    "\n",
    "p(points2D)\n",
    "p(points2D_sorted)\n",
    "\n",
    "\n",
    "a = [1, 2, 3]\n",
    "b = map(lambda x: x*2, a)\n",
    "b = filter(lambda x: x%2 == 0, a)\n",
    "\n",
    "\n",
    "from functools import reduce\n",
    "b = reduce(lambda x, y: x * y, a)\n",
    "print(b)\n",
    "\n",
    "\n",
    "\n"
   ]
  },
  {
   "cell_type": "code",
   "execution_count": 50,
   "metadata": {},
   "outputs": [
    {
     "name": "stdout",
     "output_type": "stream",
     "text": [
      "no errors\n",
      "dont even know what this is for tho\n",
      "('message', 1)\n"
     ]
    }
   ],
   "source": [
    "# Errors and Exceptions\n",
    "\n",
    "try:\n",
    "    a = 5 / 1\n",
    "    b = a + 4\n",
    "except ZeroDivisionError as e:\n",
    "    p(e)\n",
    "except TypeError as e:\n",
    "    p(e)\n",
    "else:\n",
    "    p(\"no errors\")\n",
    "finally:\n",
    "    p('dont even know what this is for tho')\n",
    "\n",
    "\n",
    "class ValueToHighError(Exception):\n",
    "    def __init__(self, message, value):\n",
    "        self.message = messageurubor\n",
    "        self.value = value\n",
    "\n",
    "try:\n",
    "    raise ValueToHighError('message', 1)\n",
    "except ValueToHighError as e:\n",
    "    p(e)\n"
   ]
  },
  {
   "cell_type": "code",
   "execution_count": null,
   "metadata": {},
   "outputs": [],
   "source": [
    "# logging\n",
    "import logging\n",
    "logger = logging.getLogger(__name__)\n",
    "logger.info('hello')\n",
    "\n",
    "file_handler = logging.FileHandler('log.txt')\n",
    "logger.addHandler(file_handler)\n",
    "\n",
    "try:\n",
    "    raise ValueToHighError('message', 1)\n",
    "except ValueToHighError as e:\n",
    "    logging.error(e, exc_info=True)\n",
    "# logging.config -> stack trace is the order of functions executed\n",
    "\n",
    "\n",
    "# Create smaller logs\n",
    "from logging.handlers import RotatingFileHandler, TimedRotatingFileHandler\n",
    "handler = RotatingFileHandler('log.txt', maxBytes=2000, backupCount=5)\n",
    "handler = TimedRotatingFileHandler('log.txt', when='d', interval=1, backupCount=5)\n"
   ]
  },
  {
   "cell_type": "code",
   "execution_count": 56,
   "metadata": {},
   "outputs": [
    {
     "name": "stdout",
     "output_type": "stream",
     "text": [
      "{\n",
      "    \"1\": \"a\",\n",
      "    \"2\": \"b\"\n",
      "}\n",
      "{'1': 'a', '2': 'b'}\n",
      "{\"name\": \"bob\", \"age\": 25}\n"
     ]
    }
   ],
   "source": [
    "# json\n",
    "import json\n",
    "\n",
    "this = {1: 'a', 2: 'b'}\n",
    "\n",
    "thisJSON = json.dumps(this, indent=4, sort_keys=True)\n",
    "p(thisJSON)\n",
    "\n",
    "this = json.loads(thisJSON)\n",
    "p(this)\n",
    "\n",
    "# Deserialize custom methods\n",
    "class User:\n",
    "    def __init__(self, name, age):\n",
    "        self.name = name\n",
    "        self.age = age\n",
    "\n",
    "user = User('bob', 25)\n",
    "userJSON = json.dumps(user, default=lambda o: o.__dict__)\n",
    "p(userJSON)\n"
   ]
  },
  {
   "cell_type": "code",
   "execution_count": 59,
   "metadata": {},
   "outputs": [
    {
     "name": "stdout",
     "output_type": "stream",
     "text": [
      "3\n",
      "[73, 98, 9, 33, 16, 64, 58, 61, 84, 49]\n"
     ]
    }
   ],
   "source": [
    "# Random numbers\n",
    "import random\n",
    "random.seed(1)\n",
    "\n",
    "r = random.randint(1, 10)\n",
    "p(r)\n",
    "\n",
    "sample = random.sample(range(1, 100), 10)\n",
    "p(sample)\n",
    "\n",
    "# use secrets module to generate random secure values"
   ]
  },
  {
   "cell_type": "code",
   "execution_count": 69,
   "metadata": {},
   "outputs": [
    {
     "name": "stdout",
     "output_type": "stream",
     "text": [
      "hello bob\n",
      "hello bob\n",
      "hello bob\n",
      "hello bob\n",
      "call 1 of hello\n",
      "hello\n"
     ]
    }
   ],
   "source": [
    "# Decorators\n",
    "import functools\n",
    "\n",
    "# function\n",
    "def my_decorator(func):\n",
    "    @functools.wraps(func) # preserve the original function name\n",
    "    def wrapper(*args, **kwargs):\n",
    "        print(\"before\")\n",
    "        result = func(*args, **kwargs)\n",
    "        print(\"after\")\n",
    "        return result\n",
    "    return wrapper\n",
    "\n",
    "# Decorators with arguments\n",
    "def repeat(num_times):\n",
    "    def decorator_repeat(func):\n",
    "        @functools.wraps(func)\n",
    "        def wrapper(*args, **kwargs):\n",
    "            for _ in range(num_times):\n",
    "                func(*args, **kwargs)\n",
    "        return wrapper\n",
    "    return decorator_repeat\n",
    "\n",
    "@repeat(num_times=4)\n",
    "def hello(n):\n",
    "    print(f\"hello {n}\")\n",
    "\n",
    "hello('bob')\n",
    "\n",
    "\n",
    "# class\n",
    "class Countcalls:\n",
    "    def __init__(self, func):\n",
    "        self.func = func\n",
    "        self.num_calls = 0\n",
    "\n",
    "    def __call__(self, *args, **kwargs):\n",
    "        self.num_calls += 1\n",
    "        print(f\"call {self.num_calls} of {self.func.__name__}\")\n",
    "        return self.func(*args, **kwargs)\n",
    "\n",
    "@Countcalls\n",
    "def hello():\n",
    "    print(\"hello\")\n",
    "\n",
    "hello()"
   ]
  },
  {
   "cell_type": "code",
   "execution_count": 75,
   "metadata": {},
   "outputs": [
    {
     "name": "stdout",
     "output_type": "stream",
     "text": [
      "[0, 1, 2, 3, 4, 5, 6, 7, 8, 9]\n",
      "0\n",
      "1\n",
      "184\n",
      "112\n",
      "48\n",
      "48\n"
     ]
    }
   ],
   "source": [
    "import sys\n",
    "\n",
    "# Generators\n",
    "def mygenerator():\n",
    "    yield from range(10)\n",
    "\n",
    "p(list(mygenerator()))\n",
    "\n",
    "gen = mygenerator()\n",
    "p(next(gen))\n",
    "p(next(gen))\n",
    "\n",
    "mygen = [x for x in range(10)]\n",
    "p(sys.getsizeof(mygen))\n",
    "mygen = (x for x in range(10))\n",
    "p(sys.getsizeof(mygen))\n",
    "mygen = iter(range(10))\n",
    "p(sys.getsizeof(mygen))\n",
    "mygen = range(10)\n",
    "p(sys.getsizeof(mygen))\n",
    "\n"
   ]
  },
  {
   "cell_type": "code",
   "execution_count": 76,
   "metadata": {},
   "outputs": [
    {
     "name": "stdout",
     "output_type": "stream",
     "text": [
      "1 2\n",
      "3\n",
      "4\n",
      "5\n",
      "name: bob\n",
      "age: 25\n"
     ]
    }
   ],
   "source": [
    "def foo(a, b, *args, **kwargs):\n",
    "    print(a, b)\n",
    "    for arg in args: print(arg)\n",
    "    for kwarg in kwargs: print(f\"{kwarg}: {kwargs[kwarg]}\")\n",
    "\n",
    "foo(1, 2, 3, 4, 5, name='bob', age=25)"
   ]
  },
  {
   "cell_type": "code",
   "execution_count": 77,
   "metadata": {},
   "outputs": [
    {
     "name": "stdout",
     "output_type": "stream",
     "text": [
      "[1, 1]\n"
     ]
    }
   ],
   "source": [
    "# shallow copy: mutable objects\n",
    "a = [1,1,1]\n",
    "b = a\n",
    "a.pop()\n",
    "p(b)\n",
    "b = a.copy()\n",
    "# deep copy\n",
    "a = [[1], [2], [3]]\n",
    "import copy\n",
    "b = copy.deepcopy(a)"
   ]
  },
  {
   "cell_type": "code",
   "execution_count": null,
   "metadata": {},
   "outputs": [],
   "source": []
  }
 ],
 "metadata": {
  "interpreter": {
   "hash": "43c958f9e597d50c1fa5eab40a67fd0ee86fcf8dd68cd5320f669a91db28ca48"
  },
  "kernelspec": {
   "display_name": "Python 3.8.13 ('venv': venv)",
   "language": "python",
   "name": "python3"
  },
  "language_info": {
   "codemirror_mode": {
    "name": "ipython",
    "version": 3
   },
   "file_extension": ".py",
   "mimetype": "text/x-python",
   "name": "python",
   "nbconvert_exporter": "python",
   "pygments_lexer": "ipython3",
   "version": "3.8.13"
  },
  "orig_nbformat": 4
 },
 "nbformat": 4,
 "nbformat_minor": 2
}

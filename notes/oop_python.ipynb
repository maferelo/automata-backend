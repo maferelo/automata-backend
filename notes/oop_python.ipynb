{
 "cells": [
  {
   "cell_type": "code",
   "execution_count": null,
   "metadata": {},
   "outputs": [],
   "source": []
  },
  {
   "cell_type": "markdown",
   "metadata": {},
   "source": [
    "### 4 Principles Of OOP\n",
    "\n",
    "1. Inheritance\n",
    "\n",
    "Inheritance is the process by which one class takes\n",
    "on the attributes and methods of another. Newly formed\n",
    "classes are called child classes, and the classes that child\n",
    "classes are derived from are called parent classes.\n",
    "Child classes inherit all of the parent 's attributes and methods but\n",
    "can also extend and overrites attributes and met hods\n",
    "that are unique to themselves.\n",
    "\n",
    "2. Polymorphism\n",
    "\n",
    "\"Many Shapes\"\n",
    "We can write a code that works on the superclass, and it will work\n",
    "with any subclass type as well.\n",
    "Gives a way to use a class exact ly like its parent,\n",
    "but each child class keeps its own methods as they are.\n",
    "\n",
    "3. Encapsulation\n",
    "\n",
    "Encapsulation is the mechanism of hiding of data imp lementation.\n",
    "Instance variables are kept private and accessor methods\n",
    "are made public to achieve this. With this, we\n",
    "restrict access to public methods (getter/setter) .\n",
    "Instance methods can also kept private.\n",
    "\n",
    "4. Abstraction\n",
    "\n",
    "Abstraction can be thought of as a natural extension of encapsulation.\n",
    "Applying abstraction means that each object should only expose\n",
    "a high-level mechanism for using it.\n",
    "This mechanism should hide internal implementation details.\n",
    "It should only reveal operations relevant for the other objects.\n"
   ]
  }
 ],
 "metadata": {
  "language_info": {
   "name": "python"
  },
  "orig_nbformat": 4
 },
 "nbformat": 4,
 "nbformat_minor": 2
}

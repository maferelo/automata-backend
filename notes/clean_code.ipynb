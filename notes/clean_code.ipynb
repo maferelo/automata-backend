{
 "cells": [
  {
   "cell_type": "code",
   "execution_count": null,
   "id": "b6801d04",
   "metadata": {},
   "outputs": [],
   "source": [
    "import this\n",
    "\n",
    "# at most 3 arguments in a function\n",
    "# functions no longer than 20 lines\n",
    "# dont pass booleans in a function\n",
    "# python typing try only one return\n",
    "# no switch statements\n",
    "# side effects...........................................functions that return values dont have side effects....\n",
    "# raise exceptions....sometimes custom\n",
    "# dont duplicate code...\n",
    "#\n",
    "\n",
    "\n",
    "\n",
    "# dependency injection and inversion\n",
    "# pass the object it will need \n"
   ]
  },
  {
   "cell_type": "markdown",
   "id": "0d99292b-2ea4-4035-b9df-df5f23dede31",
   "metadata": {},
   "source": [
    "#### Write poetry\n"
   ]
  },
  {
   "cell_type": "markdown",
   "id": "11bdde9e-7fa4-492d-bb1f-87a109ac8cd1",
   "metadata": {},
   "source": [
    "* Does one thing well\n",
    "* It's like a poem\n",
    "* Does what you expect\n",
    "* No code duplication\n"
   ]
  },
  {
   "cell_type": "markdown",
   "id": "0d99292b-2ea4-4035-b9df-df5f23dede31",
   "metadata": {},
   "source": [
    "- File organization\n",
    "- Code formatting\n",
    "- Name conventions\n",
    "- Comments\n"
   ]
  },
  {
   "cell_type": "markdown",
   "id": "0d99292b-2ea4-4035-b9df-df5f23dede31",
   "metadata": {},
   "source": [
    "#### Use decorators\n"
   ]
  },
  {
   "cell_type": "markdown",
   "id": "0d99292b-2ea4-4035-b9df-df5f23dede31",
   "metadata": {},
   "source": [
    "### PEP8\n",
    "\n",
    "- class ClassName()\n",
    "- variable_name\n",
    "- function_name()\n",
    "- CONSTANT_NAME\n",
    "- ' single quotes cause it's easier\n"
   ]
  },
  {
   "cell_type": "code",
   "execution_count": null,
   "id": "37db2f96",
   "metadata": {},
   "outputs": [],
   "source": [
    "# This is bad\n",
    "n = 10\n",
    "sum_all = 0\n",
    "\n",
    "for i in range(1, n + 1):\n",
    "    sum_all = sum_all + i\n",
    "\n",
    "print(sum_all)  # 55\n",
    "\n",
    "\n",
    "# This is good\n",
    "n = 10\n",
    "sum_all = sum(range(1, n + 1))\n",
    "\n",
    "print(sum_all)  # 55\n"
   ]
  },
  {
   "cell_type": "markdown",
   "id": "4d998b1b",
   "metadata": {},
   "source": [
    "#### Use descriptive/intention-revealing names"
   ]
  },
  {
   "cell_type": "code",
   "execution_count": null,
   "id": "84f0645d",
   "metadata": {},
   "outputs": [],
   "source": [
    "# This is bad\n",
    "c = 5\n",
    "d = 12\n",
    "\n",
    "# This is good\n",
    "city_counter = 5\n",
    "elapsed_time_in_days = 12"
   ]
  },
  {
   "cell_type": "markdown",
   "id": "4d998b1b",
   "metadata": {},
   "source": [
    "#### Avoid using ambiguous abbreviations"
   ]
  },
  {
   "cell_type": "code",
   "execution_count": null,
   "id": "84f0645d",
   "metadata": {},
   "outputs": [],
   "source": [
    "# This is bad\n",
    "fna = 'Bob'\n",
    "cre_tmstp = 1621535852\n",
    "\n",
    "# This is good\n",
    "first_name = 'Bob'\n",
    "creation_timestamp = 1621535852"
   ]
  },
  {
   "cell_type": "markdown",
   "id": "606e5da5",
   "metadata": {},
   "source": [
    "### Use solution domain names"
   ]
  },
  {
   "cell_type": "code",
   "execution_count": null,
   "id": "f108294d",
   "metadata": {},
   "outputs": [],
   "source": [
    "# This is good\n",
    "score_list = [12, 33, 14, 24]\n",
    "word_dict = {\n",
    "    'a': 'apple',\n",
    "    'b': 'banana',\n",
    "    'c': 'cherry',\n",
    "}\n",
    "\n",
    "# This is bad\n",
    "names = [\"Nick\", \"Mike\", \"John\"]"
   ]
  },
  {
   "cell_type": "markdown",
   "id": "606e5da5",
   "metadata": {},
   "source": [
    "### Do not use different words for the same concept"
   ]
  },
  {
   "cell_type": "code",
   "execution_count": null,
   "id": "583a0ffd",
   "metadata": {},
   "outputs": [],
   "source": [
    "# This is bad\n",
    "def get_name(): pass\n",
    "def fetch_age(): pass\n",
    "\n",
    "# This is good\n",
    "def get_name(): pass\n",
    "def get_age(): pass"
   ]
  },
  {
   "cell_type": "markdown",
   "id": "a96f9098",
   "metadata": {},
   "source": [
    "### Comments explain why you did something thats hard to understand fast"
   ]
  },
  {
   "cell_type": "code",
   "execution_count": null,
   "id": "bacf53d5",
   "metadata": {},
   "outputs": [],
   "source": [
    "#literal que sea como escribiendo una receta. empezo la reunion y mientras eso y esto se termino la reunion.pero en variable\n",
    "\n",
    "def start_meeting():\n",
    "    pass\n",
    "\n",
    "MINIMUM_PEOPLE_REQUIRED_TO_START_MEETING = 10\n",
    "people_waiting_for_a_meeting = 10\n",
    "\n",
    "meeting_has_started = True\n",
    "more_than_required_min_people = people_waiting_for_a_meeting >= MINIMUM_PEOPLE_REQUIRED_TO_START_MEETING\n",
    "\n",
    "if meeting_has_started and more_than_required_min_people:\n",
    "    start_meeting()\n",
    "\n",
    "# never use negative values....conditions\n",
    "\n",
    "\n"
   ]
  },
  {
   "cell_type": "markdown",
   "id": "9ce4bbf5",
   "metadata": {},
   "source": [
    "### Design patterns in python"
   ]
  },
  {
   "cell_type": "code",
   "execution_count": null,
   "id": "59b67bf3",
   "metadata": {},
   "outputs": [],
   "source": [
    "# solid\n",
    "\n",
    "# single responsibility\n",
    "# refactor into separate classes\n",
    "\n",
    "# Open / Closed\n",
    "# abstract classes . open for extension but closed for modification . you cant never break the core of your system. \n",
    "# so like a list lets say cheese and types of cheese\n",
    "# Factory pattern....\n",
    "# cheeseFactory -> chooses which one payment...\n",
    "\n",
    "# Liskov substitution\n",
    "# constructor arguments\n",
    "# if you have animals, not all animals can fly and walk, so you make a method called move that all of them can do\n",
    "# \n",
    "\n",
    "# Interface segregation\n",
    "# create more insterfaces\n",
    "# \n",
    "\n",
    "# Dependency inversion\n",
    "# make classes inherit from abstract classes\n",
    "# to make sure lets say a base object and all of them even new ones have the same methods. enforce....\n",
    "\n",
    "\n",
    "# https://github.com/ArjanCodes/betterpython"
   ]
  },
  {
   "cell_type": "markdown",
   "id": "12a7e35b",
   "metadata": {},
   "source": [
    "* singleton......import the object from another file. db driver\n",
    "* facade.....__init__.py. facade. front views\n",
    "* command.....class with execute method...mmm use functions..... bridge. apis\n",
    "* strategy....notifications\n",
    "* visitor pattern....nested complicated structure....trees....@singledispatch.....\n",
    "* observer. event bases\n",
    "* observer...\n",
    "* functions as things..\n",
    "* composition -> send classes with the bla bla functionality"
   ]
  },
  {
   "cell_type": "markdown",
   "id": "0a6eeb72",
   "metadata": {},
   "source": [
    "### Clean code utils"
   ]
  },
  {
   "cell_type": "code",
   "execution_count": null,
   "id": "cf127813",
   "metadata": {},
   "outputs": [],
   "source": [
    "# ternary conditional\n",
    "binary_condition = 1 if True else 0\n",
    "\n",
    "# large numbers\n",
    "number = 1_000_000\n",
    "print(f'{number:,}')\n",
    "\n",
    "# use with -> context managers dont read close\n",
    "# with open as f:\n",
    "\n",
    "# threads\n",
    "\n",
    "# use enumerate\n",
    "for index, value in enumerate([1,2,3,4,5], start=1):\n",
    "    pass\n",
    "\n",
    "# use zip\n",
    "for number, letter in zip([1,2], [\"A\", \"B\"]):\n",
    "    print(number, letter)\n",
    "\n",
    "# unpacking\n",
    "for pack in zip([1,2], [\"A\", \"B\"]):\n",
    "    a, *_ = pack # ignore if packet has more values\n",
    "    print(a)\n"
   ]
  },
  {
   "cell_type": "code",
   "execution_count": null,
   "id": "d91d4cda",
   "metadata": {},
   "outputs": [],
   "source": [
    "tests = [\n",
    "    ([1, 3, 6, 4, 1, 2], 5),\n",
    "    ([-1, -3], 1),\n",
    "    ([], 1),\n",
    "    ([0, 0, 0], 1),\n",
    "    ([1, 2, 3], 4),\n",
    "    ([3, 3, 3], 1)\n",
    "]"
   ]
  },
  {
   "cell_type": "code",
   "execution_count": null,
   "id": "aa1e05bf",
   "metadata": {},
   "outputs": [],
   "source": [
    "def solve(input, debug=False):\n",
    "    expected_value = 1\n",
    "    if not input: return expected_value\n",
    "\n",
    "    sorted_input = sorted(input)\n",
    "    if sorted_input[-1] < expected_value: return expected_value\n",
    "\n",
    "    unique_sorted_input = set(sorted_input)\n",
    "\n",
    "    for value in unique_sorted_input:\n",
    "        if debug: print(unique_sorted_input, value, expected_value)\n",
    "        if value < 1: continue\n",
    "        if value != expected_value: return expected_value\n",
    "        expected_value += 1\n",
    "\n",
    "    return  expected_value\n"
   ]
  },
  {
   "cell_type": "code",
   "execution_count": null,
   "metadata": {},
   "outputs": [],
   "source": [
    "for test_input, test_answer in tests:\n",
    "    result = solve(test_input)\n",
    "    if result != test_answer:\n",
    "        print(f'Test {test_input}: expected {test_answer}, result {result}')\n",
    "        solve(test_input, debug=True)"
   ]
  },
  {
   "cell_type": "code",
   "execution_count": null,
   "id": "391b7f9a",
   "metadata": {},
   "outputs": [],
   "source": [
    "tests = [\n",
    "    ({\"a\": \"aa\", \"b\": \"bb\"}, [{\"key\": \"a\", \"value\": \"aa\"}, {\"key\": \"b\", \"value\": \"bb\"}])\n",
    "]"
   ]
  },
  {
   "cell_type": "code",
   "execution_count": null,
   "id": "d2638e64",
   "metadata": {},
   "outputs": [],
   "source": [
    "import json\n",
    "\n",
    "def solve(input, debug=False):\n",
    "\n",
    "    input_dict = json.loads(input)\n",
    "    result = []\n",
    "\n",
    "    while True:\n",
    "        temp  = []\n",
    "        for check in to_check:\n",
    "            if isinstance(to_check, dict):\n",
    "                \n",
    "            elif isinstance(to_check, list):\n",
    "                pass\n",
    "            else:\n",
    "                result.append(\n",
    "                    {\n",
    "                        \"key\": \"key\",\n",
    "                        \"value\": \"value\"\n",
    "                    }\n",
    "                )\n",
    "\n",
    "        \n",
    "\n",
    "\n",
    "    return  expected_value"
   ]
  },
  {
   "cell_type": "code",
   "execution_count": null,
   "id": "f15fe6d9",
   "metadata": {},
   "outputs": [],
   "source": [
    "for test_input, test_answer in tests:\n",
    "    result = solve(test_input)\n",
    "    if result != test_answer:\n",
    "        print(f'Test {test_input}: expected {test_answer}, result {result}')\n",
    "        solve(test_input, debug=True)"
   ]
  },
  {
   "cell_type": "code",
   "execution_count": null,
   "id": "f4295a25",
   "metadata": {},
   "outputs": [],
   "source": [
    "str([{\"key\": \"value\"}])"
   ]
  },
  {
   "cell_type": "markdown",
   "id": "63b3ad90",
   "metadata": {},
   "source": [
    "### Code smells\n",
    "\n",
    "\n",
    "#### short\n",
    "* methods, classes, dataclumps, long parameter list, primitive obsession\n",
    "\n",
    "#### rarely\n",
    "* switch\n",
    "* refused bequest\n",
    "* alternative names\n",
    "* temporary field\n",
    "\n",
    "#### hard to change\n",
    "* divergent change\n",
    "* shotgun surgery\n",
    "* parallel inheritance hieranchies\n",
    "\n",
    "#### pointless\n",
    "* lazy class\n",
    "* speculative generality\n",
    "* data class\n",
    "* duplicated code\n",
    "\n",
    "#### \n",
    "* feature envy\n",
    "* inappropiate intimacy\n",
    "* message chains\n",
    "* middle man\n"
   ]
  },
  {
   "cell_type": "markdown",
   "id": "01627cbc",
   "metadata": {},
   "source": [
    "### Gitflow is more complex, has hotfix branch..., more for numbered version control. Githubflow ir the normal one with the feature\n",
    "\n",
    "#### https://docs.github.com/en/get-started/quickstart/github-flow\n",
    "\n",
    "#### https://www.atlassian.com/git/tutorials/comparing-workflows/gitflow-workflow#:~:text=Gitflow%20is%20a%20legacy%20Git,software%20development%20and%20DevOps%20practices."
   ]
  },
  {
   "cell_type": "code",
   "execution_count": null,
   "id": "0048f333",
   "metadata": {},
   "outputs": [],
   "source": [
    "3791"
   ]
  },
  {
   "cell_type": "code",
   "execution_count": null,
   "id": "bfa49a75",
   "metadata": {},
   "outputs": [],
   "source": []
  },
  {
   "cell_type": "markdown",
   "id": "552a2139",
   "metadata": {},
   "source": [
    "#### Kubernetes\n",
    "\n",
    "* Control plane -> api: shceluder, controller manager, key-value store\n",
    "* Worker Node -> kublet, kube proxy (communication), container runtime pod is a group of containers. controllers\n",
    "* External resources -> "
   ]
  },
  {
   "cell_type": "markdown",
   "id": "97844ac8",
   "metadata": {},
   "source": [
    "### Google style guide\n",
    "\n",
    "#### https://google.github.io/styleguide/pyguide.html"
   ]
  },
  {
   "cell_type": "code",
   "execution_count": null,
   "id": "74d5c746",
   "metadata": {},
   "outputs": [],
   "source": [
    "# Imports\n",
    "from my_package import my_module\n",
    "my_module.my_function()\n",
    "\n",
    "\n",
    "# Main function\n",
    "def main():\n",
    "    pass\n",
    "\n",
    "if __name__ == '__main__':\n",
    "    main()\n",
    "\n",
    "\n",
    "# List compenhention\n",
    "# yes, anything more complicated no\n",
    "descriptive_name = [\n",
    "    transform({'key': key, 'value': value}, color='black')\n",
    "    for key, value in generate_iterable(some_input)\n",
    "    if complicated_condition_is_met(key, value)\n",
    "]\n",
    "\n",
    "\n",
    "# Default values\n",
    "#dont use anything mutable\n",
    "# its ok\n",
    "def foo(a, b=None):\n",
    "    if b is None:\n",
    "        b = []\n",
    "\n",
    "# Properties\n",
    "@property # something easy not computationaly heavy\n",
    "\n",
    "\n",
    "# getters setters....\n",
    "# used only with complex logic else just assign\n",
    "\n",
    "\n",
    "# use custom errors in complex situations...to indicate something usefulll"
   ]
  },
  {
   "cell_type": "markdown",
   "id": "1eb32737",
   "metadata": {},
   "source": [
    "you dont need that\n",
    "\n",
    "design patterns express ideas in a familiar way\n",
    "\n",
    "mocks... in testing \n",
    "\n",
    "override\n"
   ]
  },
  {
   "cell_type": "code",
   "execution_count": null,
   "id": "90125c91",
   "metadata": {},
   "outputs": [],
   "source": [
    "def new_send_mail(to, frm, message):\n",
    "    pass\n",
    "    \n",
    "from unittest.mock import patch\n",
    " im port without_dependency_injection\n",
    "patch('mail.send_mail')"
   ]
  },
  {
   "cell_type": "code",
   "execution_count": null,
   "id": "a338f0a5",
   "metadata": {},
   "outputs": [],
   "source": []
  },
  {
   "cell_type": "code",
   "execution_count": null,
   "id": "4f42abbe",
   "metadata": {},
   "outputs": [],
   "source": []
  },
  {
   "cell_type": "code",
   "execution_count": null,
   "id": "c5059047",
   "metadata": {},
   "outputs": [],
   "source": []
  },
  {
   "cell_type": "code",
   "execution_count": null,
   "id": "d412c211",
   "metadata": {},
   "outputs": [],
   "source": []
  },
  {
   "cell_type": "code",
   "execution_count": null,
   "id": "34264979",
   "metadata": {},
   "outputs": [],
   "source": []
  },
  {
   "cell_type": "code",
   "execution_count": null,
   "id": "ba41cb7b",
   "metadata": {},
   "outputs": [],
   "source": [
    "array = [1, 2, 3, 4, 5, 6]\n",
    "print(list(zip(array, array[1:])))"
   ]
  },
  {
   "cell_type": "code",
   "execution_count": null,
   "id": "b74a9d96",
   "metadata": {},
   "outputs": [],
   "source": [
    "array = [1, 2, 3, 4, 5, 6]\n",
    "sequence = [1, 4]\n",
    "\n",
    "array = [5, 1, 22, 25, 6, -1, 8, 10]\n",
    "sequence = [1, -1, 6, 10]\n",
    "\n",
    "def check_if_sequence_in_array(array, sequence):\n",
    "    locations_of_array_values_in_sequence = []\n",
    "\n",
    "    for sequence_value in sequence:\n",
    "        if sequence_value not in array: return False\n",
    "        locations_of_array_values_in_sequence.append(array.index(sequence_value))\n",
    "\n",
    "    return sorted(locations_of_array_values_in_sequence) == locations_of_array_values_in_sequence\n",
    "\n",
    "check_if_sequence_in_array(array, sequence)\n",
    "        \n"
   ]
  },
  {
   "cell_type": "code",
   "execution_count": null,
   "id": "8de04b3c",
   "metadata": {},
   "outputs": [],
   "source": [
    "# lack of meaningfull abstractions\n",
    "# unclear patterns -> code duplication\n",
    "\n",
    "@property\n",
    "@decorator\n",
    "\n",
    "# context anager can be inplemented using __enter__ __exit__\n",
    "\n",
    "#pep8\n",
    "# unit tests\n",
    "# docstring\n",
    "# pycodestyle, flake8, pylint, radon, coala"
   ]
  },
  {
   "cell_type": "code",
   "execution_count": null,
   "id": "1b4b1618",
   "metadata": {},
   "outputs": [],
   "source": [
    "# proccess -> cpu memory -> can have multiple threads, so they share threads\n",
    "# what threads do to each other\n",
    "\n",
    "3791  red\n"
   ]
  },
  {
   "cell_type": "code",
   "execution_count": null,
   "id": "385e9bcc",
   "metadata": {},
   "outputs": [],
   "source": [
    "# the adapter pattern\n",
    "class FacebookConsumer -> post\n",
    "class \n",
    "\n",
    "# class hinherintance...\n",
    "# dependency injection to insret into the generic function... mo"
   ]
  },
  {
   "cell_type": "code",
   "execution_count": null,
   "id": "503a9997",
   "metadata": {},
   "outputs": [],
   "source": [
    "# the pipeline pattern\n",
    "\n",
    "best open "
   ]
  },
  {
   "cell_type": "markdown",
   "id": "c03357fb",
   "metadata": {},
   "source": [
    "* https://www.youtube.com/watch?v=731LoaZCUjo\n",
    "* https://www.youtube.com/watch?v=NI5IGAim8XU\n",
    "* https://www.youtube.com/watch?v=IEEhzQoKtQU\n",
    "* https://www.youtube.com/watch?v=srQt1NAHYC0\n",
    "* https://www.youtube.com/watch?v=2JB1_e5wZmU\n",
    "* https://www.youtube.com/watch?v=fj2tuTIcUys\n",
    "* https://github.com/mCodingLLC/VideosSampleCode/blob/master/videos/044_python_dataclasses_will_save_you_hours_also_featuring_attrs/dataclassses_howto.py\n",
    "* https://www.stepsize.com/blog/tools-to-track-and-manage-technical-debt\n",
    "* https://towardsdatascience.com/python-clean-code-6-best-practices-to-make-your-python-functions-more-readable-7ea4c6171d60\n",
    "* https://peps.python.org/pep-0008/\n",
    "* https://testdriven.io/blog/testing-python/\n",
    "* https://testdriven.io/blog/modern-tdd/\n",
    "* https://github.com/PyCQA/pycodestyle\n",
    "* https://python-3-patterns-idioms-test.readthedocs.io/en/latest/Rules.html\n",
    "* https://github.com/faif/python-patterns\n",
    "* https://sourcemaking.com/design_patterns\n",
    "* https://tapioca-wrapper.readthedocs.io/en/stable/quickstart.html\n",
    "* https://github.com/vintasoftware/django-react-boilerplate\n",
    "* https://www.vinta.com.br/playbook/\n",
    "* https://www.youtube.com/watch?v=u9UKMvQTm1s\n",
    "* https://www.youtube.com/watch?v=SeDzGf7L3Fs\n",
    "* https://www.youtube.com/watch?v=CqjEh1wA-Zg\n",
    "* https://colab.research.google.com/drive/1xeew5fSGUVTKFnZcZztnRGr74myOO-fS?authuser=4#scrollTo=SXnQ1Z3vEQ9h\n",
    "* https://tabs.ultimate-guitar.com/tab/cat-stevens/wild-world-chords-1092225\n",
    "* https://data-flair.training/blogs/python-open-source-projects/\n",
    "* https://github.com/vinta/awesome-python\n",
    "* https://github.com/pallets/flask/blob/main/src/flask/logging.py"
   ]
  },
  {
   "cell_type": "code",
   "execution_count": 3,
   "id": "3d310ff7",
   "metadata": {},
   "outputs": [],
   "source": [
    "def segment(x, space):\n",
    "    max_index = len(space) - x\n",
    "    segments = (space[index: index + x] for index in range(max_index))\n",
    "    segment_minimas = (min(segment) for segment in segments)\n",
    "    return max(segment_minimas)\n",
    "\n",
    "tests = [\n",
    "    (2, [1, 2, 3, 4, 5]),\n",
    "    (2, [1, 2, 3, 4]),\n",
    "    (2, [1, 2, 3])\n",
    "]\n",
    "\n",
    "for x, space in tests:\n",
    "    segment(x, space)"
   ]
  },
  {
   "cell_type": "markdown",
   "id": "f9503034",
   "metadata": {},
   "source": [
    "GIL: Global interpreter lock\n",
    "* A lock that allows only one thread ata time to execute in Python\n",
    "Needed in CPython because menory management is not thread-safe\n",
    "Avoid:\n",
    "* Use multiprocessing\n",
    "* Use a different, free-threaded Python implementation (Jython, IronPython)\n",
    "* use Python as a wrapper for third-party libraries (C/C++) -> numpy, scipy"
   ]
  },
  {
   "cell_type": "markdown",
   "id": "fccc6332",
   "metadata": {},
   "source": [
    "A race condition is when 2 threads try to modify the same variable at the same time. Use the lock to avoid this"
   ]
  },
  {
   "cell_type": "markdown",
   "id": "3144ec80",
   "metadata": {},
   "source": [
    "Process: An instance of a prog ram (e.9 a Python interpreter)\n",
    "\n",
    "* Takes advantage of multiple CPUs and cores\n",
    "* Sepprate memory space -> Memory is not shared between processes\n",
    "* Great for CPU-bound processing\n",
    "* New process is stated independent ly from other processes\n",
    "* Processes are interruptable/killable\n",
    "* One GIL for each process > avoids GIL limitat ion\n",
    "\n",
    "Heavyweight\n",
    "\n",
    "* Starting a process is slower than starting a thread.\n",
    "* More memo ry\n",
    "* IPC (inter-process communicat ion) is more complicated"
   ]
  },
  {
   "cell_type": "markdown",
   "id": "df88214c",
   "metadata": {},
   "source": [
    "Threads: An entity within a process that can be scheduled (also known as \"leightweight process)\n",
    "A process can spawn multiple threads.\n",
    "\n",
    "* All thrdads within a process share the same memory\n",
    "* Leightweight\n",
    "* Starting a thread is faster than starting a process\n",
    "Great for 1/0-bound tasks\n",
    "* Threading is limited by GIL: Only one thread at a time\n",
    "* No effect for CPU-bound tasks\n",
    "* Not interruptable/killable\n",
    "* Careful with race conditions"
   ]
  },
  {
   "cell_type": "code",
   "execution_count": 4,
   "id": "5ba1f0af",
   "metadata": {},
   "outputs": [
    {
     "name": "stderr",
     "output_type": "stream",
     "text": [
      "Traceback (most recent call last):\n",
      "  File \"<string>\", line 1, in <module>\n",
      "  File \"/Users/feliperestrepo/opt/anaconda3/lib/python3.9/multiprocessing/spawn.py\", line 116, in spawn_main\n",
      "    exitcode = _main(fd, parent_sentinel)\n",
      "  File \"/Users/feliperestrepo/opt/anaconda3/lib/python3.9/multiprocessing/spawn.py\", line 126, in _main\n",
      "    self = reduction.pickle.load(from_parent)\n",
      "AttributeError: Can't get attribute 'run_process' on <module '__main__' (built-in)>\n",
      "Traceback (most recent call last):\n",
      "  File \"<string>\", line 1, in <module>\n",
      "  File \"/Users/feliperestrepo/opt/anaconda3/lib/python3.9/multiprocessing/spawn.py\", line 116, in spawn_main\n",
      "    exitcode = _main(fd, parent_sentinel)\n",
      "  File \"/Users/feliperestrepo/opt/anaconda3/lib/python3.9/multiprocessing/spawn.py\", line 126, in _main\n",
      "    self = reduction.pickle.load(from_parent)\n",
      "AttributeError: Can't get attribute 'run_process' on <module '__main__' (built-in)>\n",
      "Traceback (most recent call last):\n",
      "  File \"<string>\", line 1, in <module>\n",
      "  File \"/Users/feliperestrepo/opt/anaconda3/lib/python3.9/multiprocessing/spawn.py\", line 116, in spawn_main\n",
      "    exitcode = _main(fd, parent_sentinel)\n",
      "  File \"/Users/feliperestrepo/opt/anaconda3/lib/python3.9/multiprocessing/spawn.py\", line 126, in _main\n",
      "    self = reduction.pickle.load(from_parent)\n",
      "AttributeError: Can't get attribute 'run_process' on <module '__main__' (built-in)>\n",
      "Traceback (most recent call last):\n",
      "  File \"<string>\", line 1, in <module>\n",
      "  File \"/Users/feliperestrepo/opt/anaconda3/lib/python3.9/multiprocessing/spawn.py\", line 116, in spawn_main\n",
      "    exitcode = _main(fd, parent_sentinel)\n",
      "  File \"/Users/feliperestrepo/opt/anaconda3/lib/python3.9/multiprocessing/spawn.py\", line 126, in _main\n",
      "    self = reduction.pickle.load(from_parent)\n",
      "AttributeError: Can't get attribute 'run_process' on <module '__main__' (built-in)>\n"
     ]
    }
   ],
   "source": [
    "from multiprocessing import Process\n",
    "import os\n",
    "\n",
    "def run_process(name):\n",
    "    print(f'{name} starting')\n",
    "    print(f'{name} done')\n",
    "\n",
    "processes = []\n",
    "num_processes = os.cpu_count()\n",
    "\n",
    "for i in range(num_processes):\n",
    "    p = Process(target=run_process, args=(i,))\n",
    "    processes.append(p)\n",
    "    p.start()\n",
    "\n",
    "# Wait all processes to finish\n",
    "for p in processes:\n",
    "    p.join()\n",
    "\n",
    "print('end')"
   ]
  },
  {
   "cell_type": "code",
   "execution_count": 6,
   "id": "9c54ba0d",
   "metadata": {},
   "outputs": [
    {
     "name": "stderr",
     "output_type": "stream",
     "text": [
      "Traceback (most recent call last):\n",
      "  File \"<string>\", line 1, in <module>\n",
      "  File \"/Users/feliperestrepo/opt/anaconda3/lib/python3.9/multiprocessing/spawn.py\", line 116, in spawn_main\n",
      "    exitcode = _main(fd, parent_sentinel)\n",
      "  File \"/Users/feliperestrepo/opt/anaconda3/lib/python3.9/multiprocessing/spawn.py\", line 126, in _main\n",
      "    self = reduction.pickle.load(from_parent)\n",
      "AttributeError: Can't get attribute 'run_thread' on <module '__main__' (built-in)>\n",
      "Traceback (most recent call last):\n",
      "  File \"<string>\", line 1, in <module>\n",
      "  File \"/Users/feliperestrepo/opt/anaconda3/lib/python3.9/multiprocessing/spawn.py\", line 116, in spawn_main\n",
      "    exitcode = _main(fd, parent_sentinel)\n",
      "  File \"/Users/feliperestrepo/opt/anaconda3/lib/python3.9/multiprocessing/spawn.py\", line 126, in _main\n",
      "    self = reduction.pickle.load(from_parent)\n",
      "AttributeError: Can't get attribute 'run_thread' on <module '__main__' (built-in)>\n",
      "Traceback (most recent call last):\n",
      "  File \"<string>\", line 1, in <module>\n",
      "  File \"/Users/feliperestrepo/opt/anaconda3/lib/python3.9/multiprocessing/spawn.py\", line 116, in spawn_main\n",
      "    exitcode = _main(fd, parent_sentinel)\n",
      "  File \"/Users/feliperestrepo/opt/anaconda3/lib/python3.9/multiprocessing/spawn.py\", line 126, in _main\n",
      "    self = reduction.pickle.load(from_parent)\n",
      "AttributeError: Can't get attribute 'run_thread' on <module '__main__' (built-in)>\n",
      "Traceback (most recent call last):\n",
      "  File \"<string>\", line 1, in <module>\n",
      "  File \"/Users/feliperestrepo/opt/anaconda3/lib/python3.9/multiprocessing/spawn.py\", line 116, in spawn_main\n",
      "    exitcode = _main(fd, parent_sentinel)\n",
      "  File \"/Users/feliperestrepo/opt/anaconda3/lib/python3.9/multiprocessing/spawn.py\", line 126, in _main\n",
      "    self = reduction.pickle.load(from_parent)\n",
      "AttributeError: Can't get attribute 'run_thread' on <module '__main__' (built-in)>\n",
      "Traceback (most recent call last):\n",
      "  File \"<string>\", line 1, in <module>\n",
      "  File \"/Users/feliperestrepo/opt/anaconda3/lib/python3.9/multiprocessing/spawn.py\", line 116, in spawn_main\n",
      "    exitcode = _main(fd, parent_sentinel)\n",
      "  File \"/Users/feliperestrepo/opt/anaconda3/lib/python3.9/multiprocessing/spawn.py\", line 126, in _main\n",
      "    self = reduction.pickle.load(from_parent)\n",
      "AttributeError: Can't get attribute 'run_thread' on <module '__main__' (built-in)>\n",
      "Traceback (most recent call last):\n",
      "  File \"<string>\", line 1, in <module>\n",
      "  File \"/Users/feliperestrepo/opt/anaconda3/lib/python3.9/multiprocessing/spawn.py\", line 116, in spawn_main\n",
      "    exitcode = _main(fd, parent_sentinel)\n",
      "  File \"/Users/feliperestrepo/opt/anaconda3/lib/python3.9/multiprocessing/spawn.py\", line 126, in _main\n",
      "    self = reduction.pickle.load(from_parent)\n",
      "AttributeError: Can't get attribute 'run_thread' on <module '__main__' (built-in)>\n",
      "Traceback (most recent call last):\n",
      "  File \"<string>\", line 1, in <module>\n",
      "  File \"/Users/feliperestrepo/opt/anaconda3/lib/python3.9/multiprocessing/spawn.py\", line 116, in spawn_main\n",
      "    exitcode = _main(fd, parent_sentinel)\n",
      "  File \"/Users/feliperestrepo/opt/anaconda3/lib/python3.9/multiprocessing/spawn.py\", line 126, in _main\n",
      "    self = reduction.pickle.load(from_parent)\n",
      "AttributeError: Can't get attribute 'run_thread' on <module '__main__' (built-in)>\n",
      "Traceback (most recent call last):\n",
      "  File \"<string>\", line 1, in <module>\n",
      "  File \"/Users/feliperestrepo/opt/anaconda3/lib/python3.9/multiprocessing/spawn.py\", line 116, in spawn_main\n",
      "    exitcode = _main(fd, parent_sentinel)\n",
      "  File \"/Users/feliperestrepo/opt/anaconda3/lib/python3.9/multiprocessing/spawn.py\", line 126, in _main\n",
      "    self = reduction.pickle.load(from_parent)\n",
      "AttributeError: Can't get attribute 'run_thread' on <module '__main__' (built-in)>\n",
      "Traceback (most recent call last):\n",
      "  File \"<string>\", line 1, in <module>\n",
      "  File \"/Users/feliperestrepo/opt/anaconda3/lib/python3.9/multiprocessing/spawn.py\", line 116, in spawn_main\n",
      "    exitcode = _main(fd, parent_sentinel)\n",
      "  File \"/Users/feliperestrepo/opt/anaconda3/lib/python3.9/multiprocessing/spawn.py\", line 126, in _main\n",
      "    self = reduction.pickle.load(from_parent)\n",
      "AttributeError: Can't get attribute 'run_thread' on <module '__main__' (built-in)>\n",
      "Traceback (most recent call last):\n",
      "  File \"<string>\", line 1, in <module>\n",
      "  File \"/Users/feliperestrepo/opt/anaconda3/lib/python3.9/multiprocessing/spawn.py\", line 116, in spawn_main\n",
      "    exitcode = _main(fd, parent_sentinel)\n",
      "  File \"/Users/feliperestrepo/opt/anaconda3/lib/python3.9/multiprocessing/spawn.py\", line 126, in _main\n",
      "    self = reduction.pickle.load(from_parent)\n",
      "AttributeError: Can't get attribute 'run_thread' on <module '__main__' (built-in)>\n"
     ]
    },
    {
     "name": "stdout",
     "output_type": "stream",
     "text": [
      "end\n"
     ]
    }
   ],
   "source": [
    "from threading import Thread\n",
    "import os\n",
    "\n",
    "def run_thread(name):\n",
    "    print(f'{name} starting')\n",
    "    print(f'{name} done')\n",
    "\n",
    "threads = []\n",
    "num_run_threads = 10\n",
    "\n",
    "for i in range(num_run_threads):\n",
    "    t = Process(target=run_thread, args=(i,))\n",
    "    threads.append(t)\n",
    "    t.start()\n",
    "\n",
    "# Wait all processes to finish\n",
    "for t in threads:\n",
    "    t.join()\n",
    "\n",
    "print('end')"
   ]
  },
  {
   "cell_type": "markdown",
   "id": "443479cf",
   "metadata": {},
   "source": []
  },
  {
   "cell_type": "markdown",
   "id": "5c5bfab7-1ca8-4f29-a27e-da34e438df1a",
   "metadata": {},
   "source": [
    "#\n"
   ]
  }
 ],
 "metadata": {
  "interpreter": {
   "hash": "e4dfb76b129ccc303aad4ce92dc3f6fbf789ad1987945edd55491896f9949bd6"
  },
  "kernelspec": {
   "display_name": "Python 3.9.12 ('base')",
   "language": "python",
   "name": "python3"
  },
  "language_info": {
   "codemirror_mode": {
    "name": "ipython",
    "version": 3
   },
   "file_extension": ".py",
   "mimetype": "text/x-python",
   "name": "python",
   "nbconvert_exporter": "python",
   "pygments_lexer": "ipython3",
   "version": "3.9.12"
  }
 },
 "nbformat": 4,
 "nbformat_minor": 5
}

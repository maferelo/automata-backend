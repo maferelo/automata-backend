{
 "cells": [
  {
   "cell_type": "markdown",
   "metadata": {},
   "source": [
    "## Docker\n",
    "\n",
    "- Keep images slim with Alpine -> prone to bugs\n",
    "- Use multi-stage builds\n",
    "- Order Dockerfile commands\n",
    "- Minimize the number of layers\n",
    "- Version Docker images\n",
    "- Create a non-root user\n",
    "- Do not store secrets in an image"
   ]
  },
  {
   "cell_type": "markdown",
   "metadata": {},
   "source": []
  }
 ],
 "metadata": {
  "language_info": {
   "name": "python"
  },
  "orig_nbformat": 4
 },
 "nbformat": 4,
 "nbformat_minor": 2
}

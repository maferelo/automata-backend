{
 "cells": [
  {
   "attachments": {},
   "cell_type": "markdown",
   "metadata": {},
   "source": [
    "# Architecture patterns"
   ]
  },
  {
   "attachments": {},
   "cell_type": "markdown",
   "metadata": {},
   "source": [
    "![](https://www.cosmicpython.com/book/images/apwp_p101.png)"
   ]
  },
  {
   "attachments": {},
   "cell_type": "markdown",
   "metadata": {},
   "source": [
    "1. Test-driven development (TDD).\n",
    "2. Domain-driven design(TDD).\n",
    "3. Event-driven architecture (reactive microservices)"
   ]
  },
  {
   "cell_type": "code",
   "execution_count": 2,
   "metadata": {},
   "outputs": [],
   "source": [
    "import json\n",
    "import requests\n",
    "from urllib.request import urlopen\n",
    "from urllib.parse import urlencode"
   ]
  },
  {
   "attachments": {},
   "cell_type": "markdown",
   "metadata": {},
   "source": [
    "## Encapsulation and Abstraction (responsibility-driven-design)"
   ]
  },
  {
   "attachments": {},
   "cell_type": "markdown",
   "metadata": {},
   "source": [
    "This one reduces the levels of abstraction, basically reducing number of lines and make them easier to read."
   ]
  },
  {
   "cell_type": "code",
   "execution_count": 3,
   "metadata": {},
   "outputs": [
    {
     "name": "stdout",
     "output_type": "stream",
     "text": [
      "https://duckduckgo.com/Sausage - Sausage A cylindrical meat product usually made from ground meat, often pork, beef, or veal, along...\n",
      "https://duckduckgo.com/Sausage_(band) - Sausage (band) A short-lived alternative/funk rock band featuring a reunion of the 1988 lineup of the San...\n",
      "https://duckduckgo.com/Sausage_Software - Sausage Software An Australian software company, founded by entrepreneur Steve Outtrim, which produced one of the...\n",
      "https://duckduckgo.com/dachshund - Sausage dog A short-legged, long-bodied, hound-type dog breed.\n"
     ]
    }
   ],
   "source": [
    "# Do a search with urllib\n",
    "\n",
    "params = dict(q='Sausages', format='json')\n",
    "handle = urlopen('http://api.duckduckgo.com' + '?' + urlencode(params))\n",
    "raw_text = handle.read().decode('utf8')\n",
    "parsed = json.loads(raw_text)\n",
    "results = parsed['RelatedTopics']\n",
    "for r in results:\n",
    "    if 'Text' in r:\n",
    "        print(r['FirstURL'] + ' - ' + r['Text'])"
   ]
  },
  {
   "cell_type": "code",
   "execution_count": 4,
   "metadata": {},
   "outputs": [
    {
     "name": "stdout",
     "output_type": "stream",
     "text": [
      "https://duckduckgo.com/Sausage - Sausage A cylindrical meat product usually made from ground meat, often pork, beef, or veal, along...\n",
      "https://duckduckgo.com/Sausage_(band) - Sausage (band) A short-lived alternative/funk rock band featuring a reunion of the 1988 lineup of the San...\n",
      "https://duckduckgo.com/Sausage_Software - Sausage Software An Australian software company, founded by entrepreneur Steve Outtrim, which produced one of the...\n",
      "https://duckduckgo.com/dachshund - Sausage dog A short-legged, long-bodied, hound-type dog breed.\n"
     ]
    }
   ],
   "source": [
    "# Do a search with requests\n",
    "\n",
    "params = dict(q='Sausages', format='json')\n",
    "parsed = requests.get('http://api.duckduckgo.com/', params=params).json()\n",
    "results = parsed['RelatedTopics']\n",
    "for r in results:\n",
    "    if 'Text' in r:\n",
    "        print(r['FirstURL'] + ' - ' + r['Text'])"
   ]
  },
  {
   "cell_type": "code",
   "execution_count": 6,
   "metadata": {},
   "outputs": [],
   "source": [
    "# Do a search with the duckduckgo module\n",
    "#import duckduckgo\n",
    "\n",
    "#for r in duckduckgo.query('Sausages').results:\n",
    "#    print(r.url + ' - ' + r.text)"
   ]
  },
  {
   "attachments": {},
   "cell_type": "markdown",
   "metadata": {},
   "source": [
    "## The Dependency Inversion Principle"
   ]
  },
  {
   "attachments": {},
   "cell_type": "markdown",
   "metadata": {},
   "source": [
    "* High level modules, business logic: those most important to the bussiness e.g. schelude a bus.\n",
    "* Low level modules: the other way around e.g. send log file."
   ]
  },
  {
   "cell_type": "code",
   "execution_count": 1,
   "metadata": {},
   "outputs": [
    {
     "name": "stdout",
     "output_type": "stream",
     "text": [
      "True\n"
     ]
    }
   ],
   "source": [
    "from architecture_patterns.domain.model import test\n",
    "\n",
    "print(test())"
   ]
  },
  {
   "attachments": {},
   "cell_type": "markdown",
   "metadata": {},
   "source": [
    "## The Domain Model: A Place for all Business Logic\n",
    "\n",
    "* Login\n",
    "* Find itinerary\n",
    "* Create routes\n",
    "* Assign passenger"
   ]
  },
  {
   "cell_type": "markdown",
   "metadata": {},
   "source": []
  }
 ],
 "metadata": {
  "kernelspec": {
   "display_name": ".venv",
   "language": "python",
   "name": "python3"
  },
  "language_info": {
   "codemirror_mode": {
    "name": "ipython",
    "version": 3
   },
   "file_extension": ".py",
   "mimetype": "text/x-python",
   "name": "python",
   "nbconvert_exporter": "python",
   "pygments_lexer": "ipython3",
   "version": "3.8.16"
  },
  "orig_nbformat": 4,
  "vscode": {
   "interpreter": {
    "hash": "026d69f88b532a5652e86a2c423a2c9b09db65f0944232314c8121562750e7b3"
   }
  }
 },
 "nbformat": 4,
 "nbformat_minor": 2
}

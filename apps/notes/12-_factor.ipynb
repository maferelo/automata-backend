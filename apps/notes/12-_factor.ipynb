{
 "cells": [
  {
   "cell_type": "markdown",
   "metadata": {},
   "source": [
    "1. Codebase: Git\n",
    "2. Dependencies: Poetry\n",
    "3. Config: .env\n",
    "4. Backing service: PostreSQL\n",
    "5. Build, release, run: Docker -> Build + Heroku -> release -> run\n",
    "6. Processes: Docker, ..if the app switchs of what happens with all the states\n",
    "7. Port binding: FastAPI\n",
    "8. Concurrency: Cubernetes # Think about having another pc running at the same time, will it work?\n",
    "9. Disposability: Code thinking...if the app switchs off what happens with all the interactions\n",
    "10. Dev/prod parity: Docker\n",
    "11. Logs: Logging python module\n",
    "12. Admin processes: Heroku shell\n"
   ]
  },
  {
   "cell_type": "markdown",
   "metadata": {},
   "source": [
    "1. @property\n",
    "2. @classmethod\n",
    "3. @staticmethod -> no self\n",
    "\n",
    "* GET\n",
    "* SET\n",
    "* DELETE"
   ]
  }
 ],
 "metadata": {
  "language_info": {
   "name": "python"
  },
  "orig_nbformat": 4
 },
 "nbformat": 4,
 "nbformat_minor": 2
}

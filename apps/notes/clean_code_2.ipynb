{
 "cells": [
  {
   "cell_type": "markdown",
   "id": "11bdde9e-7fa4-492d-bb1f-87a109ac8cd1",
   "metadata": {},
   "source": [
    "1. Does one thing well\n",
    "2. It's like a poem\n",
    "3. Does what you expect\n",
    "4. No code duplication"
   ]
  },
  {
   "cell_type": "markdown",
   "id": "65dbb7a1-8c93-421f-957a-c425ac8e839b",
   "metadata": {},
   "source": [
    "# Data types and return values"
   ]
  },
  {
   "cell_type": "code",
   "execution_count": 13,
   "id": "794d089c-47c4-45d7-9bbf-b522191beebe",
   "metadata": {},
   "outputs": [
    {
     "name": "stdout",
     "output_type": "stream",
     "text": [
      "0 3\n",
      "1 4\n",
      "2 5\n",
      "2.000533660000656\n"
     ]
    }
   ],
   "source": [
    "FUNCTION_MAX_LENGHT = 20\n",
    "MAX_PARAMETERS = 4\n",
    "\n",
    "dont_plus_strings = \"this\" + \"that\"\n",
    "name = \"name\"\n",
    "use_f_strings = f\"{name}\"\n",
    "\n",
    "# catch specific exception\n",
    "\n",
    "# no default mutable values\n",
    "def append(n, l=[]): #bad\n",
    "    l.append(n)\n",
    "    return l\n",
    "\n",
    "def append(n, l=None):\n",
    "    if l is None:\n",
    "        l = []\n",
    "    l.append(n)\n",
    "    return l\n",
    "\n",
    "# list or dic comprehension\n",
    "\n",
    "# dont use type == ...\n",
    "#isInstance liskov substitution\n",
    "\n",
    "\"A\" is None or True or False #good\n",
    "\n",
    "#use dont use if bool or id len\n",
    "if True:\n",
    "    pass\n",
    "\n",
    "\n",
    "first_list = range(3)\n",
    "second_list = first_list\n",
    "for index, (firs_list_value, second_list_value) in enumerate(zip(first_list, second_list)):\n",
    "    pass\n",
    "\n",
    "# use items\n",
    "dictionary = {x: x for x in range(3)}\n",
    "for key, value in dictionary.items():\n",
    "    pass\n",
    "\n",
    "# use enumerate\n",
    "for counter, value in enumerate(range(3,6)):\n",
    "    print(counter, value)\n",
    "    \n",
    "# timing\n",
    "import time\n",
    "start = time.perf_counter()\n",
    "time.sleep(2)\n",
    "end = time.perf_counter()\n",
    "print(end - start)"
   ]
  },
  {
   "cell_type": "code",
   "execution_count": 4,
   "id": "2ed7ec5c-7c67-4cf1-90e5-764e174d60b5",
   "metadata": {},
   "outputs": [],
   "source": [
    "### Do not use boolean flags\n",
    "\n",
    "text = \"Python is a simple and elegant programming language.\"\n",
    "\n",
    "# Not recommended\n",
    "def transform_text(text, uppercase):\n",
    "    if uppercase:\n",
    "        return text.upper()\n",
    "    else:\n",
    "        return text.lower()\n",
    "\n",
    "uppercase_text = transform_text(text, True)\n",
    "lowercase_text = transform_text(text, False)\n",
    "\n",
    "\n",
    "# Recommended\n",
    "def transform_to_uppercase(text):\n",
    "    return text.upper()\n",
    "\n",
    "def transform_to_lowercase(text):\n",
    "    return text.lower()\n",
    "\n",
    "uppercase_text = transform_to_uppercase(text)\n",
    "lowercase_text = transform_to_lowercase(text)"
   ]
  },
  {
   "cell_type": "markdown",
   "id": "0d99292b-2ea4-4035-b9df-df5f23dede31",
   "metadata": {},
   "source": [
    "* Decorators"
   ]
  },
  {
   "cell_type": "markdown",
   "id": "5c5bfab7-1ca8-4f29-a27e-da34e438df1a",
   "metadata": {},
   "source": [
    "1. File organization\n",
    "2. Best practices\n",
    "3. Formatting\n",
    "4. PEP8\n",
    "5. Comments"
   ]
  },
  {
   "cell_type": "code",
   "execution_count": 1,
   "id": "a7171635-51e7-4890-a313-8c5940c9c00c",
   "metadata": {},
   "outputs": [],
   "source": [
    "CONSTANT = 10"
   ]
  },
  {
   "cell_type": "code",
   "execution_count": 2,
   "id": "98de61d5-e947-45ab-9ce8-642e1d39b862",
   "metadata": {},
   "outputs": [
    {
     "name": "stdout",
     "output_type": "stream",
     "text": [
      "The Zen of Python, by Tim Peters\n",
      "\n",
      "Beautiful is better than ugly.\n",
      "Explicit is better than implicit.\n",
      "Simple is better than complex.\n",
      "Complex is better than complicated.\n",
      "Flat is better than nested.\n",
      "Sparse is better than dense.\n",
      "Readability counts.\n",
      "Special cases aren't special enough to break the rules.\n",
      "Although practicality beats purity.\n",
      "Errors should never pass silently.\n",
      "Unless explicitly silenced.\n",
      "In the face of ambiguity, refuse the temptation to guess.\n",
      "There should be one-- and preferably only one --obvious way to do it.\n",
      "Although that way may not be obvious at first unless you're Dutch.\n",
      "Now is better than never.\n",
      "Although never is often better than *right* now.\n",
      "If the implementation is hard to explain, it's a bad idea.\n",
      "If the implementation is easy to explain, it may be a good idea.\n",
      "Namespaces are one honking great idea -- let's do more of those!\n"
     ]
    }
   ],
   "source": [
    "import this"
   ]
  },
  {
   "cell_type": "markdown",
   "id": "5c5724cc-e7d7-4815-81dc-6d4a02949d9a",
   "metadata": {},
   "source": [
    "SOLID\n",
    "\n",
    "1. Single responsility\n",
    "2. Open for extension, close for modification\n",
    "3. Liskov substitution principle: functions that use pointers or references to base classes must be able to use objects of derived classes without knowing it\n",
    "4. The interface agregation principle: A client should not be forced to implement an interface that it doesn't use\n",
    "5. Dependency inversion principle: depend upon abstractions, not concretions"
   ]
  },
  {
   "cell_type": "code",
   "execution_count": null,
   "id": "0de66427-d7a3-4161-9767-8e7885d934f6",
   "metadata": {},
   "outputs": [],
   "source": [
    "# This is bad\n",
    "client_first_name = 'Bob'\n",
    "customer_last_name = 'Smith'\n",
    "\n",
    "# This is good\n",
    "client_first_name = 'Bob'\n",
    "client_last_name = 'Smith'\n",
    "\n",
    "\n",
    "import random\n",
    "\n",
    "# This is bad\n",
    "def roll():\n",
    "    return random.randint(0, 36)  # what is 36 supposed to represent?\n",
    "\n",
    "# This is good\n",
    "ROULETTE_POCKET_COUNT = 36\n",
    "\n",
    "def roll():\n",
    "    return random.randint(0, ROULETTE_POCKET_COUNT)\n",
    "\n",
    "\n",
    "# This is good - dict, list, etc.\n",
    "score_list = [12, 33, 14, 24]\n",
    "word_dict = {\n",
    "    'a': 'apple',\n",
    "    'b': 'banana',\n",
    "    'c': 'cherry',\n",
    "}\n",
    "\n",
    "\n",
    "# This is bad\n",
    "def get_name(): pass\n",
    "def fetch_age(): pass\n",
    "\n",
    "# This is good\n",
    "def get_name(): pass\n",
    "def get_age(): pass\n",
    "\n",
    "\n",
    "# This is bad\n",
    "def fetch_and_display_personnel():\n",
    "    data = # ...\n",
    "\n",
    "    for person in data:\n",
    "        print(person)\n",
    "\n",
    "\n",
    "# This is good\n",
    "def fetch_personnel():\n",
    "    return # ...\n",
    "\n",
    "def display_personnel(data):\n",
    "    for person in data:\n",
    "        print(person)\n",
    "        \n",
    "        \n",
    "# This is bad\n",
    "def render_blog_post(title, author, created_timestamp, updated_timestamp, content):\n",
    "    # ...\n",
    "\n",
    "render_blog_post(\"Clean code\", \"Nik Tomazic\", 1622148362, 1622148362, \"...\")\n",
    "\n",
    "\n",
    "# This is good\n",
    "class BlogPost:\n",
    "    def __init__(self, title, author, created_timestamp, updated_timestamp, content):\n",
    "        self.title = title\n",
    "        self.author = author\n",
    "        self.created_timestamp = created_timestamp\n",
    "        self.updated_timestamp = updated_timestamp\n",
    "        self.content = content\n",
    "\n",
    "blog_post1 = BlogPost(\"Clean code\", \"Nik Tomazic\", 1622148362, 1622148362, \"...\")\n",
    "\n",
    "def render_blog_post(blog_post):\n",
    "    # ...\n",
    "\n",
    "render_blog_post(blog_post1)\n",
    "\n"
   ]
  },
  {
   "cell_type": "markdown",
   "id": "85655adf-f5d4-4595-b62e-b17813fde105",
   "metadata": {},
   "source": [
    "### Avoid side effects\n",
    "A function produces a side effect if it does anything other than take a value in and return another value or values. For example, a side effect could be writing to a file or modifying a global variable.\n",
    "\n",
    "### Don't comment bad code, rewrite it\n",
    "Commenting bad code -- i.e., # TODO: RE-WRITE THIS TO BE BETTER -- only helps you in the short term. Sooner or later one of your colleagues will have to work with your code and they'll end up rewriting it after spending multiple hours trying to figure out what it does."
   ]
  },
  {
   "cell_type": "code",
   "execution_count": null,
   "id": "8819ea93-07b0-4839-9836-25a999f4aae7",
   "metadata": {},
   "outputs": [],
   "source": [
    "def model_to_dict(instance, fields=None, exclude=None):\n",
    "    \"\"\"\n",
    "    Returns a dict containing the data in ``instance`` suitable for passing as\n",
    "    a Form's ``initial`` keyword argument.\n",
    "    ``fields`` is an optional list of field names. If provided, return only the\n",
    "    named.\n",
    "    ``exclude`` is an optional list of field names. If provided, exclude the\n",
    "    named from the returned dict, even if they are listed in the ``fields``\n",
    "    argument.\n",
    "    \"\"\"\n",
    "    opts = instance._meta\n",
    "    data = {}\n",
    "    for f in chain(opts.concrete_fields, opts.private_fields, opts.many_to_many):\n",
    "        if not getattr(f, 'editable', False):\n",
    "            continue\n",
    "        if fields is not None and f.name not in fields:\n",
    "            continue\n",
    "        if exclude and f.name in exclude:\n",
    "            continue\n",
    "        data[f.name] = f.value_from_object(instance)\n",
    "    return data"
   ]
  },
  {
   "cell_type": "markdown",
   "id": "e4abc99e-ba09-437d-a932-3542ae718a70",
   "metadata": {},
   "source": [
    "### Don't leave commented out code"
   ]
  },
  {
   "cell_type": "code",
   "execution_count": null,
   "id": "68cb13ab-c229-4b1f-958f-c8345747a5c0",
   "metadata": {},
   "outputs": [],
   "source": [
    "def ask_for_passcode(func):\n",
    "    def inner():\n",
    "        print('What is the passcode?')\n",
    "        passcode = input()\n",
    "\n",
    "        if passcode != '1234':\n",
    "            print('Wrong passcode.')\n",
    "        else:\n",
    "            print('Access granted.')\n",
    "            func()\n",
    "\n",
    "    return inner\n",
    "\n",
    "\n",
    "@ask_for_passcode\n",
    "def start():\n",
    "    print(\"Server has been started.\")\n",
    "\n",
    "\n",
    "@ask_for_passcode\n",
    "def end():\n",
    "    print(\"Server has been stopped.\")\n",
    "\n",
    "\n",
    "start()  # decorator will ask for password\n",
    "end()  # decorator will ask for password\n",
    "\n",
    "\n",
    "def multiple_generator(x, n):\n",
    "    for i in range(1, n + 1):\n",
    "        yield x * i\n",
    "\n",
    "multiples_of_5 = multiple_generator(5, 3)\n",
    "print(next(multiples_of_5))  # 5\n",
    "print(next(multiples_of_5))  # 10\n",
    "print(next(multiples_of_5))  # 15"
   ]
  },
  {
   "cell_type": "code",
   "execution_count": null,
   "id": "b61ac6ec-84f7-45a7-a706-1970a4716a09",
   "metadata": {},
   "outputs": [],
   "source": [
    "awesomeproject/\n",
    "├── main/\n",
    "│   ├── __init__.py\n",
    "│   ├── asgi.py\n",
    "│   ├── settings.py\n",
    "│   ├── urls.py\n",
    "│   └── wsgi.py\n",
    "├── blog/\n",
    "│   ├── migrations/\n",
    "│   │   └── __init__.py\n",
    "│   ├── __init__.py\n",
    "│   ├── admin.py\n",
    "│   ├── apps.py\n",
    "│   ├── models.py\n",
    "│   ├── tests.py\n",
    "│   ├── urls.py\n",
    "│   └── views.py\n",
    "└── templates"
   ]
  },
  {
   "cell_type": "markdown",
   "id": "b90bc1d5-c220-4bb7-8e81-c7393e2dcab7",
   "metadata": {},
   "source": [
    "## Testing\n",
    "\n",
    "assertEquals, assertTrue, assertContains\n",
    "\n",
    "\n",
    "### Mocking\n",
    "\n",
    "Automated tests should be fast, isolated/independent, and deterministic/repeatable.\n",
    "\n",
    "\n",
    "### Coverage\n",
    "\n",
    "https://coverage.readthedocs.io/en/6.4/"
   ]
  },
  {
   "cell_type": "markdown",
   "id": "62dfe67d-10b3-45f6-9e69-88216092a174",
   "metadata": {},
   "source": [
    "# Do not use boolean flagS\n",
    "\n",
    "text = \"Python is a simple and elegant programming language.\"\n",
    "\n",
    "# Not recommended\n",
    "def transform_text(text, uppercase):\n",
    "    if uppercase:\n",
    "        return text.upper()\n",
    "    else:\n",
    "        return text.lower()\n",
    "\n",
    "uppercase_text = transform_text(text, True)\n",
    "lowercase_text = transform_text(text, False)\n",
    "\n",
    "\n",
    "# Recommended\n",
    "def transform_to_uppercase(text):\n",
    "    return text.upper()\n",
    "\n",
    "def transform_to_lowercase(text):\n",
    "    return text.lower()\n",
    "\n",
    "uppercase_text = transform_to_uppercase(text)\n",
    "lowercase_text = transform_to_lowercase(text)"
   ]
  },
  {
   "cell_type": "markdown",
   "id": "3170d02d-2f37-4800-aaba-a86a8c7ada96",
   "metadata": {},
   "source": [
    "assertEquals, assertTrue, assertContains"
   ]
  },
  {
   "cell_type": "code",
   "execution_count": null,
   "id": "7d0b7f9e-645e-4bf5-b544-748fb7dac6e0",
   "metadata": {},
   "outputs": [],
   "source": []
  },
  {
   "cell_type": "markdown",
   "id": "13acbebf-09e4-4950-848c-9e32f150ff0d",
   "metadata": {},
   "source": [
    "## CODE SMELLS\n",
    "\n",
    "1. Don't use isinstance\n",
    "2. Don't repeat yourself\n",
    "3. No magic numbers\n",
    "4. Use Enum and types...\n",
    "5. Don't use booleanflags\n",
    "6. \n",
    "\n",
    "\n",
    "* They don't keep their \"diff patches\" (a.k.a. code pull requests) small.\n",
    "* They don't avoid over-engineered garbage code. \n",
    "* They are not willing to achieve or maintain high levels of effectiveness (often measured at least in part by APM or actions per minute).\n",
    "* They are unwilling to both leave their ego at the door and to also ask questions of more experienced programmers.\n",
    "\n",
    "* Write a design doc...\n",
    "* One piece of code a day...\n",
    "* Ask for help\n",
    "\n",
    "* no nested ifs\n",
    "* use any"
   ]
  },
  {
   "cell_type": "markdown",
   "id": "13b18f79-5c84-4723-acb1-24a129d59d9a",
   "metadata": {},
   "source": [
    "1. Function and Variable naming.\n",
    "2. Constant variables.\n",
    "3. Documentation strings (docstrings)\n",
    "4. Type hints\n",
    "5. Method pointers -> className.method -> self, self.method_pointer\n",
    "6. Bonus tip at the end.\n",
    "7. no global variables.\n",
    "8. data types and return types"
   ]
  },
  {
   "cell_type": "code",
   "execution_count": null,
   "id": "4e00a1ce-fa50-4437-90b1-80e8205a715e",
   "metadata": {},
   "outputs": [],
   "source": [
    "# dataClasses\n",
    "class ManualComment:\n",
    "    pass\n",
    "\n",
    "\n",
    "# get rid of indentation with guards for ifs\n",
    "def this(self, hat):\n",
    "    if not True:\n",
    "        return False\n",
    "    \n",
    "    pass\n",
    "\n"
   ]
  },
  {
   "cell_type": "markdown",
   "id": "f438eb42-f5c4-457f-a61c-ba278b15079e",
   "metadata": {},
   "source": [
    "* You're responsible for code quality.\n",
    "* Use meaningful names.\n",
    "* Write code that expresses intent.\n",
    "* Code should speak for itself. Less comments = less maintenance.\n",
    "* Leave the code better than you found it.\n",
    "* Single-responsibility code.\n",
    "i.e function does 1 thing well. Less arguments = better function.\n",
    "classes: most methods use most of the class' properties.\n",
    "* Tests (TDD).\n",
    "* Work on big picture skeleton, then fill in the details later \n",
    "(interface first, implementation later).\n",
    "* Independent components that can be used in different places.\n",
    "* Master your craft."
   ]
  },
  {
   "cell_type": "code",
   "execution_count": 20,
   "id": "9c5d4d6b-7d9f-4703-9157-e07e4c31556c",
   "metadata": {},
   "outputs": [
    {
     "data": {
      "text/plain": [
       "{'this': 12}"
      ]
     },
     "execution_count": 20,
     "metadata": {},
     "output_type": "execute_result"
    }
   ],
   "source": [
    "create_sett = {1,2,3} # set\n",
    "use_generator = (i for i in range(10000))\n",
    "count = {\"this\": 12}.get(\"count\", \"default\")\n",
    "count = {\"this\": 12}.setdefault(\"count\", \"default\")\n",
    "this = {\"this\": 12}\n",
    "merge_dictionaries = {**this, **this}\n",
    "merge_dictionaries"
   ]
  },
  {
   "cell_type": "code",
   "execution_count": 17,
   "id": "2a07a293-e4c4-4b2f-a571-9bf4e0ef979e",
   "metadata": {},
   "outputs": [],
   "source": [
    "#from collections import counter\n",
    "#Counter([1,2,3,4,4,5,5,5]).most_common(1)"
   ]
  },
  {
   "cell_type": "code",
   "execution_count": null,
   "id": "3f553911-334d-45c1-a7f7-cad323930d8b",
   "metadata": {},
   "outputs": [],
   "source": [
    "I'm interested allthough my level is more like a semi senior, I send you my CV in any case"
   ]
  },
  {
   "cell_type": "code",
   "execution_count": 64,
   "id": "f39e5b3b-123d-48d6-b604-cb90d0d342b7",
   "metadata": {},
   "outputs": [
    {
     "name": "stdout",
     "output_type": "stream",
     "text": [
      "[1, 1, 2, 3, 4, 6]\n",
      "0 1 1\n",
      "1 1 2\n",
      "([1, 3, 6, 4, 1, 2], 5) 2\n"
     ]
    }
   ],
   "source": [
    "def qsort(inlist):\n",
    "    if inlist == []: \n",
    "        return []\n",
    "    else:\n",
    "        pivot = inlist[0]\n",
    "        lesser = qsort([x for x in inlist[1:] if x < pivot])\n",
    "        greater = qsort([x for x in inlist[1:] if x >= pivot])\n",
    "        return lesser + [pivot] + greater\n",
    "\n",
    "\n",
    "def solution(A):\n",
    "    # write your code in Python 3.6\n",
    "    sorted_list = qsort(A)\n",
    "    if sorted_list[-1] < 1:\n",
    "        return 1\n",
    "\n",
    "    expected_value = 1\n",
    "    print(sorted_list)\n",
    "    last_value = 0\n",
    "    for value in sorted_list:\n",
    "        print(last_value, value, expected_value)\n",
    "        if value < 1: continue\n",
    "        elif value != expected_value: return expected_value\n",
    "        elif value == last_value: continue\n",
    "        last_value = value\n",
    "        expected_value += 1\n",
    "    return expected_value \n",
    "        \n",
    "\n",
    "tests = [\n",
    "    ([1, 3, 6, 4, 1, 2], 5),\n",
    "]\n",
    "        \n",
    "for test in tests:\n",
    "    result = solution(test[0])\n",
    "    if result != test[1]: print(test, result)"
   ]
  },
  {
   "cell_type": "code",
   "execution_count": null,
   "id": "2a4723ec-6c51-40a5-8759-c3b47a0e5fe8",
   "metadata": {},
   "outputs": [],
   "source": []
  }
 ],
 "metadata": {
  "kernelspec": {
   "display_name": "Python 3 (ipykernel)",
   "language": "python",
   "name": "python3"
  },
  "language_info": {
   "codemirror_mode": {
    "name": "ipython",
    "version": 3
   },
   "file_extension": ".py",
   "mimetype": "text/x-python",
   "name": "python",
   "nbconvert_exporter": "python",
   "pygments_lexer": "ipython3",
   "version": "3.9.12"
  }
 },
 "nbformat": 4,
 "nbformat_minor": 5
}
